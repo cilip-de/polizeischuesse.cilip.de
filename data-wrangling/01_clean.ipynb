{
 "cells": [
  {
   "cell_type": "code",
   "execution_count": 1,
   "id": "616cf7cf-0f86-4e97-908c-f4acd15dba56",
   "metadata": {},
   "outputs": [],
   "source": [
    "import csv\n",
    "from dateparser import parse\n",
    "\n",
    "with open('input.csv', mode='r') as csv_file:\n",
    "    csv_reader = csv.DictReader(csv_file)\n",
    "    data = [x for x in list(csv_reader) if x['Szenarium'] != '']"
   ]
  },
  {
   "cell_type": "code",
   "execution_count": 2,
   "id": "a3490421-9bd8-47ff-a633-5535c2f3df75",
   "metadata": {},
   "outputs": [],
   "source": [
    "def fix_location(x):\n",
    "    if len(x['Bundesland']) != 0:\n",
    "        x['Bundesland'] = harm_land(x['Bundesland'])\n",
    "        return x\n",
    "    for deli in ('/', ','):\n",
    "        split_1 = x['Ort'].rsplit(deli)\n",
    "        # print(split_1)\n",
    "        if len(split_1) > 1:\n",
    "                x['Bundesland'] = harm_land(split_1[-1].strip())\n",
    "                x['Ort'] = split_1[0].strip()\n",
    "                return x\n",
    "    if x['Ort'] in ('Berlin', 'Hamburg', 'Bremen'):\n",
    "        x['Bundesland'] = x['Ort']\n",
    "    return x"
   ]
  },
  {
   "cell_type": "code",
   "execution_count": 3,
   "id": "032ab782-ec6e-4383-aeec-71361a3e9bdb",
   "metadata": {},
   "outputs": [],
   "source": [
    "abr_text = \"\"\"BW \tBaden-Württemberg\n",
    "BY \tBayern\n",
    "BE \tBerlin\n",
    "BB \tBrandenburg\n",
    "HB \tBremen\n",
    "HH \tHamburg\n",
    "HE \tHessen\n",
    "MV \tMecklenburg-Vorpommern\n",
    "NI \tNiedersachsen\n",
    "NW \tNordrhein-Westfalen\n",
    "RP \tRheinland-Pfalz\n",
    "SL \tSaarland\n",
    "SN \tSachsen\n",
    "ST \tSachsen-Anhalt\n",
    "SH \tSchleswig-Holstein\n",
    "TH \tThüringen\"\"\"\n",
    "abr = [x.split() for x in abr_text.split(\"\\n\")]\n",
    "lands = [x.split()[-1] for x in abr_text.split(\"\\n\")]"
   ]
  },
  {
   "cell_type": "code",
   "execution_count": 4,
   "id": "ec34b611-0454-4ccb-ba14-b9addbbf7731",
   "metadata": {},
   "outputs": [],
   "source": [
    "bw=[\"Ba.-Württ.\", \"Baden-Württemb.\", \"Bad.-Württ.\", \"Bad.-Würt.\", \"Baden-Württ.\", \"Baden-Wbg.\", \"Ba-Wü\", \"BaWü\", \"BW\"]\n",
    "rp=[\"Rheinl.-Pfalz\", \"Rheinl.-Pf.\", \"Rhld.-Pfalz\", \"Rheinl.-Pfalz\", \"Rheinland-Pf.\"]\n",
    "st=[\"Sachsen-Anh.\", \"Sn.-Anhalt\"]\n",
    "nr=[\"NRW\", \"Nordrhein-Westf.\"]\n",
    "ni=[\"Nds.\", \"Nieders.\"]\n",
    "mv=[\"MV\", \"M.V.\", \"Meckl.-Vorp.\", \"Mecklenburg-Vorp.\"]\n",
    "sh=[\"Schleswig-Holst.\", \"Schl.-Hol.\", \"Schlesw.-Hol.\", \"Schleswig-H.\"]\n",
    "bb=[\"Brbg\", \"Brbg.\"]\n",
    "be=[\"Bln.\"]\n",
    "he=[\"Hess.\"]\n",
    "sa=[\"Sachs.\"]"
   ]
  },
  {
   "cell_type": "code",
   "execution_count": 5,
   "id": "9d78305f-6a57-48c2-8dce-88c34b8c3300",
   "metadata": {},
   "outputs": [],
   "source": [
    "def harm_land(x):\n",
    "    if x in bw:\n",
    "        return \"Baden-Württemberg\"\n",
    "    if x in rp:\n",
    "        return \"Rheinland-Pfalz\"\n",
    "    if x in st:\n",
    "        return \"Sachsen-Anhalt\"\n",
    "    if x in nr:\n",
    "        return \"Nordrhein-Westfalen\"\n",
    "    if x in ni:\n",
    "        return \"Niedersachsen\"\n",
    "    if x in mv:\n",
    "        return \"Mecklenburg-Vorpommern\"\n",
    "    if x in sh:\n",
    "        return \"Schleswig-Holstein\"\n",
    "    if x in bb:\n",
    "        return \"Brandenburg\"\n",
    "    if x in be:\n",
    "        return \"Berlin\"\n",
    "    if x in he:\n",
    "        return \"Hessen\"\n",
    "    if x in sa:\n",
    "        return \"Sachsen\"\n",
    "    return x"
   ]
  },
  {
   "cell_type": "code",
   "execution_count": 6,
   "id": "cef9d319-340a-4482-9d31-0eb4de4ef8cb",
   "metadata": {},
   "outputs": [],
   "source": [
    "def harm_place(x):\n",
    "    if 'Frankfurt' in x['Ort'] and x['Bundesland'] == 'Hessen':\n",
    "        if x['Ort'] in ('Frankfurt a. M.', 'Frankfurt', 'Frankfurt/Main'):\n",
    "            x['Ort'] = 'Frankfurt am Main'\n",
    "        else:\n",
    "            if x['Ort'].endswith(' Frankfurt'):\n",
    "                x['Ort'] = x['Ort'].replace(' Frankfurt', ' Frankfurt am Main')\n",
    "    return x"
   ]
  },
  {
   "cell_type": "code",
   "execution_count": 7,
   "id": "ee0a910a-324e-4e42-b80b-ecdcc5d38b58",
   "metadata": {},
   "outputs": [],
   "source": [
    "d1 = [{ k:v.strip() for k, v in d.items()} for d in data]"
   ]
  },
  {
   "cell_type": "code",
   "execution_count": 8,
   "id": "4dbed845-d313-40c5-a2b3-33582b8739aa",
   "metadata": {},
   "outputs": [],
   "source": [
    "d1 = [fix_location(x) for x in d1]"
   ]
  },
  {
   "cell_type": "code",
   "execution_count": 9,
   "id": "72c0c812-aa3b-4b2e-99ad-8edaab7d66f5",
   "metadata": {},
   "outputs": [],
   "source": [
    "d1 = [harm_place(x) for x in d1]"
   ]
  },
  {
   "cell_type": "code",
   "execution_count": 10,
   "id": "7bd2857c-fe6d-43ec-ab75-ae34bb50f973",
   "metadata": {},
   "outputs": [],
   "source": [
    "for x in d1:\n",
    "    if x['Bundesland'] not in lands:\n",
    "        print(x['Bundesland'])"
   ]
  },
  {
   "cell_type": "code",
   "execution_count": 11,
   "id": "b46c2c3a-4b00-4103-8bde-c7ed7dd46118",
   "metadata": {},
   "outputs": [],
   "source": [
    "for x in d1:\n",
    "    x['Datum'] = parse(x['Datum'], languages=['de']).date().isoformat()\n",
    "    name = x['Name'] \n",
    "    name = name[0].upper() + name[1:]\n",
    "    x['Name'] = name.replace('Unbek.', 'Unbekannter').replace('Unbek ', 'Unbekannter ').replace('Unbekannter Frau', 'Unbekannte Frau')"
   ]
  },
  {
   "cell_type": "code",
   "execution_count": 12,
   "id": "7da456d8-aadf-425d-9f42-3e3bcfaaf8c8",
   "metadata": {},
   "outputs": [],
   "source": [
    "binary_cols = [\"Opfer mit Schusswaffe\",\"Schusswechsel\", \"Sondereinsatzbeamte\", \"Verletzte/getötete Beamte\", \"Vorbereitete Polizeiaktion\", 'Staatsanwaltliches Ermittlungsverfahren', 'Gerichtsverfahren'] \n",
    "for x in d1:\n",
    "    for col in binary_cols:\n",
    "        x[col] = x[col].replace('ja', 'Ja').replace('nein', 'Nein').replace('unbekannt', 'Unbekannt').replace('unklar', 'Unbekannt').replace('Unklar', 'Unbekannt')"
   ]
  },
  {
   "cell_type": "code",
   "execution_count": 13,
   "id": "8ae1e3fa-296c-4dd7-a823-653ceb26d651",
   "metadata": {},
   "outputs": [],
   "source": [
    "# for x in d1:\n",
    "#     for col in binary_cols:\n",
    "#         if not x[col] in ('Ja', 'Nein', 'Unbekannt'):\n",
    "#             print(x[col])"
   ]
  },
  {
   "cell_type": "code",
   "execution_count": 14,
   "id": "7d9db24a-8361-4fda-800a-7504186417f5",
   "metadata": {},
   "outputs": [],
   "source": [
    "for x in d1:\n",
    "    for k,v in x.items():\n",
    "        if v == 'unbekannt':\n",
    "            x[k] = 'Unbekannt'"
   ]
  },
  {
   "cell_type": "code",
   "execution_count": 15,
   "id": "74c7ea90-d7cd-4655-9e92-c96699b2886e",
   "metadata": {},
   "outputs": [],
   "source": [
    "for x in d1:\n",
    "    x['Fall'] = 'cilip-' + x['Datum'][:4] + '-' + x['Fall']"
   ]
  },
  {
   "cell_type": "code",
   "execution_count": 16,
   "id": "283ea283-48e2-4383-8eb6-f2d025b385e2",
   "metadata": {},
   "outputs": [],
   "source": [
    "d1 = sorted(d1, key=lambda x: x['Datum'])"
   ]
  },
  {
   "cell_type": "code",
   "execution_count": 17,
   "id": "404c514b-973b-435b-9120-0c89da8710fa",
   "metadata": {},
   "outputs": [],
   "source": [
    "with open('output.csv', 'w', newline='') as csvfile:\n",
    "    writer = csv.DictWriter(csvfile, fieldnames=d1[0].keys())\n",
    "\n",
    "    writer.writeheader()\n",
    "    writer.writerows(d1)"
   ]
  },
  {
   "cell_type": "code",
   "execution_count": null,
   "id": "0a383f98-e43c-4ded-a7ca-1ce988339120",
   "metadata": {},
   "outputs": [],
   "source": []
  },
  {
   "cell_type": "code",
   "execution_count": null,
   "id": "3e822016-df33-4f79-846a-6489cbecbbb7",
   "metadata": {},
   "outputs": [],
   "source": []
  }
 ],
 "metadata": {
  "kernelspec": {
   "display_name": "Python 3 (ipykernel)",
   "language": "python",
   "name": "python3"
  },
  "language_info": {
   "codemirror_mode": {
    "name": "ipython",
    "version": 3
   },
   "file_extension": ".py",
   "mimetype": "text/x-python",
   "name": "python",
   "nbconvert_exporter": "python",
   "pygments_lexer": "ipython3",
   "version": "3.9.7"
  }
 },
 "nbformat": 4,
 "nbformat_minor": 5
}
